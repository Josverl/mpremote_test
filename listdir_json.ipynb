{
 "cells": [
  {
   "cell_type": "code",
   "execution_count": 1,
   "metadata": {},
   "outputs": [
    {
     "name": "stdout",
     "output_type": "stream",
     "text": [
      "Current ip.InteractiveTB.mode='Context'\n",
      "New ip.InteractiveTB.mode='Minimal'\n"
     ]
    }
   ],
   "source": [
    "%load_ext micropython_magic\n"
   ]
  },
  {
   "cell_type": "code",
   "execution_count": 14,
   "metadata": {},
   "outputs": [
    {
     "ename": "ModuleNotFoundError",
     "evalue": "No module named 'uhashlib'",
     "output_type": "error",
     "traceback": [
      "\u001b[1;31m---------------------------------------------------------------------------\u001b[0m",
      "\u001b[1;31mModuleNotFoundError\u001b[0m                       Traceback (most recent call last)",
      "Cell \u001b[1;32mIn[14], line 3\u001b[0m\n\u001b[0;32m      1\u001b[0m \u001b[38;5;66;03m# %%micropython\u001b[39;00m\n\u001b[0;32m      2\u001b[0m \u001b[38;5;28;01mimport\u001b[39;00m \u001b[38;5;21;01mos\u001b[39;00m\u001b[38;5;241m,\u001b[39m \u001b[38;5;21;01mjson\u001b[39;00m\n\u001b[1;32m----> 3\u001b[0m \u001b[38;5;28;01mimport\u001b[39;00m \u001b[38;5;21;01muhashlib\u001b[39;00m\u001b[38;5;241m,\u001b[39m \u001b[38;5;21;01mubinascii\u001b[39;00m  \u001b[38;5;66;03m# type: ignore\u001b[39;00m\n\u001b[0;32m      6\u001b[0m \u001b[38;5;28;01mdef\u001b[39;00m \u001b[38;5;21mlistdir\u001b[39m(path\u001b[38;5;241m=\u001b[39m\u001b[38;5;124m\"\u001b[39m\u001b[38;5;124m.\u001b[39m\u001b[38;5;124m\"\u001b[39m, sub\u001b[38;5;241m=\u001b[39m\u001b[38;5;28;01mFalse\u001b[39;00m, JSON\u001b[38;5;241m=\u001b[39m\u001b[38;5;28;01mTrue\u001b[39;00m, \u001b[38;5;28mhash\u001b[39m\u001b[38;5;241m=\u001b[39m\u001b[38;5;28;01mFalse\u001b[39;00m):\n\u001b[0;32m      7\u001b[0m \n\u001b[0;32m      8\u001b[0m     \u001b[38;5;66;03m# Lists the file information of a folder\u001b[39;00m\n\u001b[0;32m      9\u001b[0m     li \u001b[38;5;241m=\u001b[39m []\n",
      "\u001b[1;31mModuleNotFoundError\u001b[0m: No module named 'uhashlib'"
     ]
    }
   ],
   "source": [
    "# %%micropython\n",
    "import os, json\n",
    "import uhashlib, ubinascii  # type: ignore\n",
    "\n",
    "\n",
    "def listdir(path=\".\", sub=False, JSON=True, hash=False):\n",
    "\n",
    "    # Lists the file information of a folder\n",
    "    li = []\n",
    "    di = {}\n",
    "    if path == \".\":  # Get current folder name\n",
    "        path = os.getcwd()\n",
    "    files = os.listdir(path)\n",
    "    for file in files:\n",
    "        # get size of each file\n",
    "        info = {\"path\": path, \"Name\": file, \"Size\": 0}\n",
    "        if path[-1] == \"/\":\n",
    "            full = \"%s%s\" % (path, file)\n",
    "        else:\n",
    "            full = \"%s/%s\" % (path, file)\n",
    "        # print(\"os.stat({})\".format( full))\n",
    "        subdir = []\n",
    "        try:\n",
    "            stat = os.stat(full)\n",
    "            if stat[0] & 0x4000:  # stat.S_IFDIR\n",
    "                info[\"type\"] = \"dir\"\n",
    "                # recurse folder(s)\n",
    "                if sub == True:\n",
    "                    # print(\"Folder :{}\".format( full))\n",
    "                    subdir = listdir(path=full, sub=True, JSON=False, hash=hash)\n",
    "            else:\n",
    "                info[\"size\"] = stat[6]\n",
    "                info[\"type\"] = \"file\"\n",
    "                if hash:\n",
    "                    with open(full, \"rb\") as f:\n",
    "                        h = uhashlib.sha256(f.read())\n",
    "                        info[\"hash\"] = ubinascii.hexlify(h.digest())\n",
    "        except OSError as e:\n",
    "            # print(\"error:{} processing file:{}\".format(e, full))\n",
    "            info[\"error\"] = e.args[0]\n",
    "            info[\"type\"] = \"OSError\"\n",
    "        info[\"fullname\"] = full\n",
    "        di[full] = info\n",
    "        li.append(info)\n",
    "        # recurse folder(s)\n",
    "        if sub == True:\n",
    "            di[full] = subdir\n",
    "            li = li + subdir  # type: ignore\n",
    "    if JSON == True:\n",
    "        # return json.dumps(li)\n",
    "        return json.dumps(di)\n",
    "    else:\n",
    "        # return li\n",
    "        return di\n",
    "\n",
    "\n",
    "# listdir()"
   ]
  },
  {
   "cell_type": "code",
   "execution_count": 12,
   "metadata": {},
   "outputs": [
    {
     "ename": "TypeError",
     "evalue": "listdir() got an unexpected keyword argument 'gethash'",
     "output_type": "error",
     "traceback": [
      "\u001b[1;31m---------------------------------------------------------------------------\u001b[0m",
      "\u001b[1;31mTypeError\u001b[0m                                 Traceback (most recent call last)",
      "Cell \u001b[1;32mIn[12], line 2\u001b[0m\n\u001b[0;32m      1\u001b[0m \u001b[38;5;66;03m# %%micropython\u001b[39;00m\n\u001b[1;32m----> 2\u001b[0m l \u001b[38;5;241m=\u001b[39m \u001b[43mlistdir\u001b[49m\u001b[43m(\u001b[49m\u001b[43mpath\u001b[49m\u001b[38;5;241;43m=\u001b[39;49m\u001b[38;5;124;43m\"\u001b[39;49m\u001b[38;5;124;43m.\u001b[39;49m\u001b[38;5;124;43m\"\u001b[39;49m\u001b[43m,\u001b[49m\u001b[43m \u001b[49m\u001b[43msub\u001b[49m\u001b[38;5;241;43m=\u001b[39;49m\u001b[38;5;28;43;01mTrue\u001b[39;49;00m\u001b[43m,\u001b[49m\u001b[43m \u001b[49m\u001b[43mJSON\u001b[49m\u001b[38;5;241;43m=\u001b[39;49m\u001b[38;5;28;43;01mTrue\u001b[39;49;00m\u001b[43m,\u001b[49m\u001b[43m \u001b[49m\u001b[43mgethash\u001b[49m\u001b[38;5;241;43m=\u001b[39;49m\u001b[38;5;28;43;01mTrue\u001b[39;49;00m\u001b[43m)\u001b[49m\n\u001b[0;32m      3\u001b[0m \u001b[38;5;28mprint\u001b[39m(l)\n",
      "\u001b[1;31mTypeError\u001b[0m: listdir() got an unexpected keyword argument 'gethash'"
     ]
    }
   ],
   "source": [
    "# %%micropython\n",
    "l = listdir(path=\".\", sub=True, JSON=True, gethash=True)\n",
    "print(l)"
   ]
  },
  {
   "cell_type": "code",
   "execution_count": 5,
   "metadata": {},
   "outputs": [
    {
     "name": "stdout",
     "output_type": "stream",
     "text": [
      "[{\"Size\": 0, \"type\": \"dir\", \"fullname\": \"/elsewhere\", \"path\": \"/\", \"Name\": \"elsewhere\"}, {\"Size\": 0, \"type\": \"dir\", \"fullname\": \"/folder_1\", \"path\": \"/\", \"Name\": \"folder_1\"}, {\"size\": 19, \"Size\": 0, \"path\": \"/folder_1\", \"Name\": \"bar.txt\", \"fullname\": \"/folder_1/bar.txt\", \"type\": \"file\", \"hash\": \"54388de1ef64b02b8272b0462beba78957c696a7f72fbbb1db917ae29d9b981b\"}, {\"Size\": 0, \"type\": \"dir\", \"fullname\": \"/folder_1/folder_2\", \"path\": \"/folder_1\", \"Name\": \"folder_2\"}, {\"size\": 14, \"Size\": 0, \"path\": \"/folder_1/folder_2\", \"Name\": \"foo.txt\", \"fullname\": \"/folder_1/folder_2/foo.txt\", \"type\": \"file\", \"hash\": \"cfce4e2952591e79a0dea1654a92dba4f099d348ab7c176bcd052d69b8929770\"}, {\"size\": 19, \"Size\": 0, \"path\": \"/folder_1\", \"Name\": \"foo.txt\", \"fullname\": \"/folder_1/foo.txt\", \"type\": \"file\", \"hash\": \"54388de1ef64b02b8272b0462beba78957c696a7f72fbbb1db917ae29d9b981b\"}, {\"Size\": 0, \"type\": \"dir\", \"fullname\": \"/lib\", \"path\": \"/\", \"Name\": \"lib\"}, {\"size\": 202, \"Size\": 0, \"path\": \"/lib\", \"Name\": \"__future__.mpy\", \"fullname\": \"/lib/__future__.mpy\", \"type\": \"file\", \"hash\": \"d9857a9caa4d7bcb7b8688289d9b5cd60e3797217e064bd7754a269f03a817be\"}, {\"size\": 70, \"Size\": 0, \"path\": \"/lib\", \"Name\": \"abc.mpy\", \"fullname\": \"/lib/abc.mpy\", \"type\": \"file\", \"hash\": \"8d26b9b42397243a23520b0ee1c844e6cf186a8bb6815cd7ad91dbb5041b8b75\"}, {\"Size\": 0, \"type\": \"dir\", \"fullname\": \"/lib/collections\", \"path\": \"/lib\", \"Name\": \"collections\"}, {\"size\": 82, \"Size\": 0, \"path\": \"/lib/collections\", \"Name\": \"abc.mpy\", \"fullname\": \"/lib/collections/abc.mpy\", \"type\": \"file\", \"hash\": \"8c50a231cae85fc111955f1144f867ab94f4f8ada4f3c52dd4ea55576fd93a04\"}, {\"size\": 381, \"Size\": 0, \"path\": \"/lib\", \"Name\": \"typing.mpy\", \"fullname\": \"/lib/typing.mpy\", \"type\": \"file\", \"hash\": \"d2dbe55591024d7974c9c08b3890f731d77f84fc3d7ea1b9e863e20c1baec347\"}, {\"size\": 66, \"Size\": 0, \"path\": \"/lib\", \"Name\": \"typing_extensions.mpy\", \"fullname\": \"/lib/typing_extensions.mpy\", \"type\": \"file\", \"hash\": \"c4b76df00ccf987dd64fdde79c5804e38593ca49c2912a93bc943f34705edc8c\"}]\n"
     ]
    }
   ],
   "source": [
    "\n",
    "!mpremote run \"tests/scripts/listdir_json.py\" exec \"print(listdir(sub=True, hash=True, JSON=True))\"\n"
   ]
  },
  {
   "cell_type": "code",
   "execution_count": 8,
   "metadata": {},
   "outputs": [],
   "source": [
    "import subprocess, json\n",
    "\n",
    "r = subprocess.run(\n",
    "    [\n",
    "        \"mpremote\",\n",
    "        \"run\",\n",
    "        \"tests/scripts/listdir_json.py\",\n",
    "        \"exec\",\n",
    "        \"print(listdir('/',sub=True, hash=True,JSON=True))\",\n",
    "    ],\n",
    "    capture_output=True,\n",
    ")\n",
    "r.stdout.decode(\"utf-8\")\n",
    "file_info = json.loads(r.stdout.decode(\"utf-8\"))"
   ]
  },
  {
   "cell_type": "code",
   "execution_count": null,
   "metadata": {},
   "outputs": [],
   "source": []
  }
 ],
 "metadata": {
  "kernelspec": {
   "display_name": ".venv",
   "language": "python",
   "name": "python3"
  },
  "language_info": {
   "codemirror_mode": {
    "name": "ipython",
    "version": 3
   },
   "file_extension": ".py",
   "mimetype": "text/x-python",
   "name": "python",
   "nbconvert_exporter": "python",
   "pygments_lexer": "ipython3",
   "version": "3.11.9"
  }
 },
 "nbformat": 4,
 "nbformat_minor": 2
}
